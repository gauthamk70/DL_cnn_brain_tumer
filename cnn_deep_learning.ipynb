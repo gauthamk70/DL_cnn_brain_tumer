{
  "nbformat": 4,
  "nbformat_minor": 0,
  "metadata": {
    "colab": {
      "provenance": [],
      "gpuType": "T4"
    },
    "kernelspec": {
      "name": "python3",
      "display_name": "Python 3"
    },
    "language_info": {
      "name": "python"
    }
  },
  "cells": [
    {
      "cell_type": "code",
      "execution_count": null,
      "metadata": {
        "id": "DrZTzu7eF0Sp"
      },
      "outputs": [],
      "source": [
        "import pandas as pd\n",
        "import matplotlib.pyplot as plt\n",
        "import cv2\n",
        "from skimage.transform import resize\n",
        "from skimage.io import imread\n",
        "import os\n",
        "from tensorflow.keras.models import Sequential\n",
        "from tensorflow.keras.layers import Conv2D,MaxPool2D,Dense,Flatten"
      ]
    },
    {
      "cell_type": "code",
      "source": [
        "os.listdir('/content/drive/MyDrive/Brain_Tumer/Training')"
      ],
      "metadata": {
        "colab": {
          "base_uri": "https://localhost:8080/"
        },
        "id": "JU8TEdn_HSry",
        "outputId": "94c100e5-3d13-4e35-814d-169e451e7d8c"
      },
      "execution_count": null,
      "outputs": [
        {
          "output_type": "execute_result",
          "data": {
            "text/plain": [
              "['notumor', 'pituitary', 'meningioma', 'glioma']"
            ]
          },
          "metadata": {},
          "execution_count": 2
        }
      ]
    },
    {
      "cell_type": "code",
      "source": [
        "os.listdir('/content/drive/MyDrive/Brain_Tumer/Testing')"
      ],
      "metadata": {
        "colab": {
          "base_uri": "https://localhost:8080/"
        },
        "id": "feYIViQeHthf",
        "outputId": "b0b729e9-a301-4772-d4bd-2ecc3a37f3c2"
      },
      "execution_count": null,
      "outputs": [
        {
          "output_type": "execute_result",
          "data": {
            "text/plain": [
              "['pituitary', 'notumor', 'meningioma', 'glioma']"
            ]
          },
          "metadata": {},
          "execution_count": 3
        }
      ]
    },
    {
      "cell_type": "markdown",
      "source": [
        "# training set"
      ],
      "metadata": {
        "id": "6_a5YJaMSsos"
      }
    },
    {
      "cell_type": "code",
      "source": [
        "datadir='/content/drive/MyDrive/Brain_Tumer/Training'"
      ],
      "metadata": {
        "id": "QAa8U_2SHxNC"
      },
      "execution_count": null,
      "outputs": []
    },
    {
      "cell_type": "code",
      "source": [
        "X_train=[]\n",
        "y_train=[]\n",
        "categories=['pituitary','notumor','meningioma','glioma']\n",
        "for i in categories:\n",
        "  path=os.path.join(datadir,i)\n",
        "  #print(path)\n",
        "  images=os.listdir(path)\n",
        "  #print(images)\n",
        "  print(i,':',len(images))\n",
        "  for img in images:\n",
        "    img_path=os.path.join(path,img)\n",
        "    #print(img_path)\n",
        "    img_array=imread(img_path)\n",
        "    img_resized=resize(img_array,(150,150,1))\n",
        "    X_train.append(img_resized)\n",
        "    y_train.append(categories.index(i))\n",
        "  print('loaded category:',i)"
      ],
      "metadata": {
        "colab": {
          "base_uri": "https://localhost:8080/"
        },
        "id": "TLT4YoNwIX52",
        "outputId": "f2413da0-dc66-48be-f341-a323a3e542e9"
      },
      "execution_count": null,
      "outputs": [
        {
          "output_type": "stream",
          "name": "stdout",
          "text": [
            "pituitary : 1349\n",
            "loaded category: pituitary\n",
            "notumor : 1574\n",
            "loaded category: notumor\n",
            "meningioma : 1319\n",
            "loaded category: meningioma\n",
            "glioma : 1287\n",
            "loaded category: glioma\n"
          ]
        }
      ]
    },
    {
      "cell_type": "markdown",
      "source": [
        "# test set"
      ],
      "metadata": {
        "id": "u5LWKb7RSlm-"
      }
    },
    {
      "cell_type": "code",
      "source": [
        "datadir='/content/drive/MyDrive/Brain_Tumer/Testing'"
      ],
      "metadata": {
        "id": "chJMoznWTA_L"
      },
      "execution_count": null,
      "outputs": []
    },
    {
      "cell_type": "code",
      "source": [
        "X_test=[]\n",
        "y_test=[]\n",
        "categories=['pituitary','notumor','meningioma','glioma']\n",
        "for i in categories:\n",
        "  path=os.path.join(datadir,i)\n",
        "  #print(path)\n",
        "  images=os.listdir(path)\n",
        "  #print(images)\n",
        "  print(i,':',len(images))\n",
        "  for img in images:\n",
        "    img_path=os.path.join(path,img)\n",
        "    #print(img_path)\n",
        "    img_array=imread(img_path)\n",
        "    img_resized=resize(img_array,(150,150,1))\n",
        "    X_test.append(img_resized)\n",
        "    y_test.append(categories.index(i))\n",
        "  print('loaded category:',i)"
      ],
      "metadata": {
        "colab": {
          "base_uri": "https://localhost:8080/"
        },
        "id": "2UVys7z7P7ER",
        "outputId": "51afc261-168d-4647-d730-6243df941ab7"
      },
      "execution_count": null,
      "outputs": [
        {
          "output_type": "stream",
          "name": "stdout",
          "text": [
            "pituitary : 300\n",
            "loaded category: pituitary\n",
            "notumor : 405\n",
            "loaded category: notumor\n",
            "meningioma : 306\n",
            "loaded category: meningioma\n",
            "glioma : 300\n",
            "loaded category: glioma\n"
          ]
        }
      ]
    },
    {
      "cell_type": "markdown",
      "source": [
        "# model"
      ],
      "metadata": {
        "id": "S4plyigpXkvQ"
      }
    },
    {
      "cell_type": "code",
      "source": [
        "import numpy as np\n",
        "X_train=np.array(X_train)\n",
        "y_train=np.array(y_train)\n",
        "X_test=np.array(X_test)\n",
        "y_test=np.array(y_test)"
      ],
      "metadata": {
        "id": "zzHcUg7NXjpH"
      },
      "execution_count": null,
      "outputs": []
    },
    {
      "cell_type": "code",
      "source": [
        "#X_train.shape\n",
        "X_test.shape\n"
      ],
      "metadata": {
        "colab": {
          "base_uri": "https://localhost:8080/"
        },
        "id": "T5wMiJzmYJl0",
        "outputId": "b6624044-78d4-494d-a3d4-82379d6d028f"
      },
      "execution_count": null,
      "outputs": [
        {
          "output_type": "execute_result",
          "data": {
            "text/plain": [
              "(1311, 150, 150, 1)"
            ]
          },
          "metadata": {},
          "execution_count": 9
        }
      ]
    },
    {
      "cell_type": "code",
      "source": [
        "model=Sequential()\n",
        "model.add(Conv2D(32,3,input_shape=(150,150,1),activation='relu'))\n",
        "model.add(MaxPool2D(2,2))\n",
        "model.add(Conv2D(32,3,activation='relu'))\n",
        "model.add(MaxPool2D(2,2))\n",
        "model.add(Conv2D(32,3,activation='relu'))\n",
        "model.add(MaxPool2D(2,2))\n",
        "model.add(Flatten())\n",
        "model.add(Dense(10,activation='relu'))\n",
        "model.add(Dense(4,activation='softmax'))"
      ],
      "metadata": {
        "id": "HHRT69yDYWk-"
      },
      "execution_count": null,
      "outputs": []
    },
    {
      "cell_type": "code",
      "source": [
        "model.compile(optimizer='adam',loss='sparse_categorical_crossentropy',metrics='accuracy')"
      ],
      "metadata": {
        "id": "Lkjv_9RRcU18"
      },
      "execution_count": null,
      "outputs": []
    },
    {
      "cell_type": "code",
      "source": [
        "model.fit(X_train,y_train,batch_size=100,epochs=50)"
      ],
      "metadata": {
        "colab": {
          "base_uri": "https://localhost:8080/"
        },
        "id": "B7HhEHnYcp50",
        "outputId": "9c46f612-b0b9-468d-c89f-86c14055ecd3"
      },
      "execution_count": null,
      "outputs": [
        {
          "output_type": "stream",
          "name": "stdout",
          "text": [
            "Epoch 1/50\n",
            "56/56 [==============================] - 6s 30ms/step - loss: 1.3796 - accuracy: 0.3880\n",
            "Epoch 2/50\n",
            "56/56 [==============================] - 1s 26ms/step - loss: 1.2210 - accuracy: 0.4243\n",
            "Epoch 3/50\n",
            "56/56 [==============================] - 1s 26ms/step - loss: 1.1366 - accuracy: 0.4286\n",
            "Epoch 4/50\n",
            "56/56 [==============================] - 1s 26ms/step - loss: 1.0800 - accuracy: 0.4395\n",
            "Epoch 5/50\n",
            "56/56 [==============================] - 1s 26ms/step - loss: 1.0544 - accuracy: 0.4480\n",
            "Epoch 6/50\n",
            "56/56 [==============================] - 1s 26ms/step - loss: 1.0249 - accuracy: 0.4424\n",
            "Epoch 7/50\n",
            "56/56 [==============================] - 1s 25ms/step - loss: 0.9988 - accuracy: 0.4482\n",
            "Epoch 8/50\n",
            "56/56 [==============================] - 2s 28ms/step - loss: 0.9737 - accuracy: 0.4603\n",
            "Epoch 9/50\n",
            "56/56 [==============================] - 2s 29ms/step - loss: 0.9570 - accuracy: 0.4476\n",
            "Epoch 10/50\n",
            "56/56 [==============================] - 2s 27ms/step - loss: 0.9389 - accuracy: 0.4916\n",
            "Epoch 11/50\n",
            "56/56 [==============================] - 2s 27ms/step - loss: 0.9249 - accuracy: 0.5061\n",
            "Epoch 12/50\n",
            "56/56 [==============================] - 1s 26ms/step - loss: 0.9133 - accuracy: 0.4947\n",
            "Epoch 13/50\n",
            "56/56 [==============================] - 2s 30ms/step - loss: 0.9032 - accuracy: 0.5167\n",
            "Epoch 14/50\n",
            "56/56 [==============================] - 1s 26ms/step - loss: 0.8900 - accuracy: 0.5131\n",
            "Epoch 15/50\n",
            "56/56 [==============================] - 1s 27ms/step - loss: 0.8806 - accuracy: 0.5229\n",
            "Epoch 16/50\n",
            "56/56 [==============================] - 1s 26ms/step - loss: 0.8768 - accuracy: 0.5328\n",
            "Epoch 17/50\n",
            "56/56 [==============================] - 2s 30ms/step - loss: 0.8641 - accuracy: 0.5285\n",
            "Epoch 18/50\n",
            "56/56 [==============================] - 2s 29ms/step - loss: 0.8551 - accuracy: 0.5292\n",
            "Epoch 19/50\n",
            "56/56 [==============================] - 2s 28ms/step - loss: 0.8462 - accuracy: 0.5258\n",
            "Epoch 20/50\n",
            "56/56 [==============================] - 1s 26ms/step - loss: 0.8407 - accuracy: 0.5399\n",
            "Epoch 21/50\n",
            "56/56 [==============================] - 1s 26ms/step - loss: 0.8305 - accuracy: 0.5357\n",
            "Epoch 22/50\n",
            "56/56 [==============================] - 1s 25ms/step - loss: 0.8213 - accuracy: 0.5339\n",
            "Epoch 23/50\n",
            "56/56 [==============================] - 1s 25ms/step - loss: 0.8100 - accuracy: 0.5509\n",
            "Epoch 24/50\n",
            "56/56 [==============================] - 1s 25ms/step - loss: 0.8004 - accuracy: 0.5482\n",
            "Epoch 25/50\n",
            "56/56 [==============================] - 1s 25ms/step - loss: 0.7886 - accuracy: 0.5632\n",
            "Epoch 26/50\n",
            "56/56 [==============================] - 1s 26ms/step - loss: 0.7759 - accuracy: 0.5755\n",
            "Epoch 27/50\n",
            "56/56 [==============================] - 2s 28ms/step - loss: 0.7655 - accuracy: 0.5836\n",
            "Epoch 28/50\n",
            "56/56 [==============================] - 2s 28ms/step - loss: 0.7587 - accuracy: 0.5947\n",
            "Epoch 29/50\n",
            "56/56 [==============================] - 1s 26ms/step - loss: 0.7490 - accuracy: 0.6113\n",
            "Epoch 30/50\n",
            "56/56 [==============================] - 1s 25ms/step - loss: 0.7312 - accuracy: 0.6247\n",
            "Epoch 31/50\n",
            "56/56 [==============================] - 1s 25ms/step - loss: 0.7132 - accuracy: 0.6466\n",
            "Epoch 32/50\n",
            "56/56 [==============================] - 1s 25ms/step - loss: 0.7033 - accuracy: 0.6540\n",
            "Epoch 33/50\n",
            "56/56 [==============================] - 1s 26ms/step - loss: 0.6919 - accuracy: 0.6654\n",
            "Epoch 34/50\n",
            "56/56 [==============================] - 1s 26ms/step - loss: 0.6832 - accuracy: 0.6735\n",
            "Epoch 35/50\n",
            "56/56 [==============================] - 1s 25ms/step - loss: 0.6746 - accuracy: 0.6786\n",
            "Epoch 36/50\n",
            "56/56 [==============================] - 2s 27ms/step - loss: 0.6704 - accuracy: 0.6801\n",
            "Epoch 37/50\n",
            "56/56 [==============================] - 2s 28ms/step - loss: 0.6661 - accuracy: 0.6855\n",
            "Epoch 38/50\n",
            "56/56 [==============================] - 2s 29ms/step - loss: 0.6526 - accuracy: 0.6725\n",
            "Epoch 39/50\n",
            "56/56 [==============================] - 1s 25ms/step - loss: 0.4440 - accuracy: 0.7846\n",
            "Epoch 40/50\n",
            "56/56 [==============================] - 1s 25ms/step - loss: 0.3680 - accuracy: 0.9260\n",
            "Epoch 41/50\n",
            "56/56 [==============================] - 1s 25ms/step - loss: 0.3236 - accuracy: 0.9381\n",
            "Epoch 42/50\n",
            "56/56 [==============================] - 1s 25ms/step - loss: 0.2790 - accuracy: 0.9551\n",
            "Epoch 43/50\n",
            "56/56 [==============================] - 1s 25ms/step - loss: 0.2513 - accuracy: 0.9606\n",
            "Epoch 44/50\n",
            "56/56 [==============================] - 1s 25ms/step - loss: 0.2252 - accuracy: 0.9671\n",
            "Epoch 45/50\n",
            "56/56 [==============================] - 1s 26ms/step - loss: 0.2078 - accuracy: 0.9696\n",
            "Epoch 46/50\n",
            "56/56 [==============================] - 2s 29ms/step - loss: 0.1928 - accuracy: 0.9702\n",
            "Epoch 47/50\n",
            "56/56 [==============================] - 2s 27ms/step - loss: 0.1805 - accuracy: 0.9727\n",
            "Epoch 48/50\n",
            "56/56 [==============================] - 2s 27ms/step - loss: 0.1649 - accuracy: 0.9745\n",
            "Epoch 49/50\n",
            "56/56 [==============================] - 1s 26ms/step - loss: 0.1545 - accuracy: 0.9749\n",
            "Epoch 50/50\n",
            "56/56 [==============================] - 1s 25ms/step - loss: 0.1442 - accuracy: 0.9756\n"
          ]
        },
        {
          "output_type": "execute_result",
          "data": {
            "text/plain": [
              "<keras.callbacks.History at 0x7fcea20b5570>"
            ]
          },
          "metadata": {},
          "execution_count": 12
        }
      ]
    },
    {
      "cell_type": "code",
      "source": [
        "loss,acc=model.evaluate(X_test,y_test)\n",
        "print('loss:',loss)\n",
        "print('accuracy:',acc)"
      ],
      "metadata": {
        "colab": {
          "base_uri": "https://localhost:8080/"
        },
        "id": "qWPdjryuVjFM",
        "outputId": "15ddde4f-d72c-4696-b4df-83435abc9edb"
      },
      "execution_count": null,
      "outputs": [
        {
          "output_type": "stream",
          "name": "stdout",
          "text": [
            "41/41 [==============================] - 1s 7ms/step - loss: 0.3923 - accuracy: 0.8749\n",
            "loss: 0.39233845472335815\n",
            "accuracy: 0.8749046325683594\n"
          ]
        }
      ]
    },
    {
      "cell_type": "code",
      "source": [
        "img=imread('/content/drive/MyDrive/Brain_Tumer/Testing/glioma/Te-gl_0034.jpg')\n",
        "plt.imshow(img)"
      ],
      "metadata": {
        "colab": {
          "base_uri": "https://localhost:8080/",
          "height": 452
        },
        "id": "AqTW8JkuXb-5",
        "outputId": "0c099b42-26da-4f47-ecd9-ac3ba3823817"
      },
      "execution_count": null,
      "outputs": [
        {
          "output_type": "execute_result",
          "data": {
            "text/plain": [
              "<matplotlib.image.AxesImage at 0x7fcde035b3d0>"
            ]
          },
          "metadata": {},
          "execution_count": 14
        },
        {
          "output_type": "display_data",
          "data": {
            "text/plain": [
              "<Figure size 640x480 with 1 Axes>"
            ],
            "image/png": "[encoded data removed]"
          },
          "metadata": {}
        }
      ]
    },
    {
      "cell_type": "code",
      "source": [
        "img=resize(img,(150,150,1))\n",
        "img_array=np.array(img)\n",
        "img_array.shape\n",
        "# reshape img array to shape of x_train\n",
        "img_array=img_array.reshape(1,150,150,1)\n",
        "img_array.shape"
      ],
      "metadata": {
        "colab": {
          "base_uri": "https://localhost:8080/"
        },
        "id": "-xQ38bX-XtXm",
        "outputId": "6d216a54-31f7-4750-a9b2-869f266bf05a"
      },
      "execution_count": null,
      "outputs": [
        {
          "output_type": "execute_result",
          "data": {
            "text/plain": [
              "(1, 150, 150, 1)"
            ]
          },
          "metadata": {},
          "execution_count": 15
        }
      ]
    },
    {
      "cell_type": "code",
      "source": [
        "pred=model.predict(img_array)\n",
        "print(pred)"
      ],
      "metadata": {
        "colab": {
          "base_uri": "https://localhost:8080/"
        },
        "id": "m7n-y_42X-U_",
        "outputId": "518503a5-2b5d-4094-dfe3-dfa0289917be"
      },
      "execution_count": null,
      "outputs": [
        {
          "output_type": "stream",
          "name": "stdout",
          "text": [
            "1/1 [==============================] - 0s 99ms/step\n",
            "[[2.4638190e-19 6.0153703e-18 9.3777524e-03 9.9062222e-01]]\n"
          ]
        }
      ]
    },
    {
      "cell_type": "code",
      "source": [
        "# take index of highest value in pred\n",
        "ind=pred.argmax()\n",
        "print(ind)"
      ],
      "metadata": {
        "colab": {
          "base_uri": "https://localhost:8080/"
        },
        "id": "PT-AFHdCZG1G",
        "outputId": "0d722b44-dec6-475b-d100-47bac9533471"
      },
      "execution_count": null,
      "outputs": [
        {
          "output_type": "stream",
          "name": "stdout",
          "text": [
            "3\n"
          ]
        }
      ]
    },
    {
      "cell_type": "code",
      "source": [
        "print(categories[ind])"
      ],
      "metadata": {
        "colab": {
          "base_uri": "https://localhost:8080/"
        },
        "id": "vnd2hQ7FZgG8",
        "outputId": "50bbb134-dbd0-4caa-e2f3-0b51aaa91d69"
      },
      "execution_count": null,
      "outputs": [
        {
          "output_type": "stream",
          "name": "stdout",
          "text": [
            "glioma\n"
          ]
        }
      ]
    }
  ]
}